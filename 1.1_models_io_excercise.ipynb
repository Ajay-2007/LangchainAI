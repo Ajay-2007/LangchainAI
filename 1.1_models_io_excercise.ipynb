{
 "cells": [
  {
   "cell_type": "code",
   "execution_count": 1,
   "metadata": {},
   "outputs": [],
   "source": [
    "from langchain.prompts import (\n",
    "    ChatPromptTemplate,\n",
    "    PromptTemplate,\n",
    "    SystemMessagePromptTemplate,\n",
    "    AIMessagePromptTemplate,\n",
    "    HumanMessagePromptTemplate\n",
    ")\n",
    "\n",
    "from datetime import datetime\n",
    "from langchain.llms import OpenAI\n",
    "from langchain.output_parsers import DatetimeOutputParser\n",
    "from langchain.chat_models import ChatOpenAI\n",
    "\n",
    "\n",
    "f = open('api_key.txt')\n",
    "api_key = f.read()"
   ]
  },
  {
   "cell_type": "code",
   "execution_count": 22,
   "metadata": {},
   "outputs": [],
   "source": [
    "class HistoryQuiz():\n",
    "\n",
    "    def create_history_question(self, topic):\n",
    "        '''\n",
    "        This method should output a historical question about the topic that has a data as the question\n",
    "        For example:\n",
    "\n",
    "\n",
    "            \"On what date did World War 2 end?\"\n",
    "\n",
    "        '''\n",
    "\n",
    "        # SYSTEM\n",
    "        system_template = \"You write a single quiz questions about {topic}. You only return the qui question.\"\n",
    "        system_message_prompt = SystemMessagePromptTemplate.from_template(system_template)\n",
    "\n",
    "        # HUMAN\n",
    "        human_template = \"{question_request}\"\n",
    "        human_message_prompt = HumanMessagePromptTemplate.from_template(human_template)\n",
    "\n",
    "        # Compile ChatTemplate\n",
    "        chat_prompt = ChatPromptTemplate.from_messages(\n",
    "            [\n",
    "                system_message_prompt,\n",
    "                human_message_prompt\n",
    "            ]\n",
    "        )\n",
    "\n",
    "        # Insert topic\n",
    "        q = \"Give me a quiz question where the correct answer is specific date.\"\n",
    "        request = chat_prompt.format_prompt(topic=topic, question_request=q).to_messages()\n",
    "\n",
    "        # Request\n",
    "\n",
    "        chat = ChatOpenAI(openai_api_key=api_key)\n",
    "\n",
    "        result = chat(request)\n",
    "\n",
    "        return result.content\n",
    "\n",
    "\n",
    "    def get_AI_answer(self, question):\n",
    "\n",
    "        '''\n",
    "        This method should get the answer to the historical question from the method above.\n",
    "        Note: This answer must be in datetime format! Use DateTimeOutputParser to confirm!\n",
    "\n",
    "        September 2, 1945 --> datetime.datetime(1945, 9, 2, 0, 0)\n",
    "        '''\n",
    "\n",
    "        # Datetime Parser\n",
    "        output_parser = DatetimeOutputParser()\n",
    "        # System Template\n",
    "        system_template = \"You answer quiz questions with just a date. like datetime.datetime object\"\n",
    "        system_message_prompt = SystemMessagePromptTemplate.from_template(system_template)\n",
    "        # Human template --> format_instructions\n",
    "        human_template = \"\"\"Answer the user's question:\n",
    "\n",
    "        {question}\n",
    "\n",
    "\n",
    "        {format_instructions}\"\"\"\n",
    "        human_message_prompt = HumanMessagePromptTemplate.from_template(human_template)\n",
    "        # Compile ChatPromptTemplate\n",
    "        chat_prompt = ChatPromptTemplate.from_messages(\n",
    "            [\n",
    "                system_message_prompt,\n",
    "                human_message_prompt\n",
    "            ]\n",
    "        )\n",
    "        # Insert question and get_format_instructions\n",
    "        format_instructions = output_parser.get_format_instructions()\n",
    "        request = chat_prompt.format_prompt(\n",
    "            question=question,\n",
    "            format_instructions=format_instructions\n",
    "        ).to_messages()\n",
    "        # chatbot result --> format datetime\n",
    "        chat = ChatOpenAI(openai_api_key=api_key)\n",
    "        result = chat(request)\n",
    "\n",
    "        correct_datetime = output_parser.parse(result.content)\n",
    "\n",
    "\n",
    "        return correct_datetime\n",
    "\n",
    "\n",
    "    def get_user_answer(self, question):\n",
    "        '''\n",
    "        This method should grab a user answer and convert it to datetime. It should correct an answer.\n",
    "        You can just use input() for this.\n",
    "        '''\n",
    "        print(question)\n",
    "        print('\\n')\n",
    "        year = int(input(\"Enter the year: \"))\n",
    "        month = int(input(\"Enter the month (1-12): \"))\n",
    "        day = int(input(\"Enter the day (1-31): \"))\n",
    "        user_datetime = datetime(year, month, day)\n",
    "\n",
    "\n",
    "        return user_datetime\n",
    "\n",
    "\n",
    "    def check_user_answer(self, user_answer, ai_answer):\n",
    "        '''\n",
    "        Should check the user answer against the AI answer and return the difference between them\n",
    "        '''\n",
    "\n",
    "        # print or return difference between the answer here!\n",
    "        difference = user_answer - ai_answer\n",
    "        formatted_difference = str(difference)\n",
    "        print(f\"The difference between answer and your guess: {formatted_difference}\")"
   ]
  },
  {
   "cell_type": "code",
   "execution_count": 23,
   "metadata": {},
   "outputs": [],
   "source": [
    "quiz_bot = HistoryQuiz()"
   ]
  },
  {
   "cell_type": "code",
   "execution_count": 24,
   "metadata": {},
   "outputs": [],
   "source": [
    "question = quiz_bot.create_history_question(topic='Neil Armstrong set foot moon date')"
   ]
  },
  {
   "cell_type": "code",
   "execution_count": 25,
   "metadata": {},
   "outputs": [
    {
     "data": {
      "text/plain": [
       "'On what date did Neil Armstrong set foot on the moon?'"
      ]
     },
     "execution_count": 25,
     "metadata": {},
     "output_type": "execute_result"
    }
   ],
   "source": [
    "question"
   ]
  },
  {
   "cell_type": "code",
   "execution_count": 26,
   "metadata": {},
   "outputs": [],
   "source": [
    "ai_answer = quiz_bot.get_AI_answer(question)"
   ]
  },
  {
   "cell_type": "code",
   "execution_count": 27,
   "metadata": {},
   "outputs": [
    {
     "data": {
      "text/plain": [
       "datetime.datetime(1969, 7, 20, 20, 17, 40)"
      ]
     },
     "execution_count": 27,
     "metadata": {},
     "output_type": "execute_result"
    }
   ],
   "source": [
    "ai_answer"
   ]
  },
  {
   "cell_type": "code",
   "execution_count": 28,
   "metadata": {},
   "outputs": [
    {
     "name": "stdout",
     "output_type": "stream",
     "text": [
      "On what date did Neil Armstrong set foot on the moon?\n",
      "\n",
      "\n"
     ]
    }
   ],
   "source": [
    "user_answer = quiz_bot.get_user_answer(question)"
   ]
  },
  {
   "cell_type": "code",
   "execution_count": 29,
   "metadata": {},
   "outputs": [
    {
     "data": {
      "text/plain": [
       "datetime.datetime(1969, 1, 2, 0, 0)"
      ]
     },
     "execution_count": 29,
     "metadata": {},
     "output_type": "execute_result"
    }
   ],
   "source": [
    "user_answer"
   ]
  },
  {
   "cell_type": "code",
   "execution_count": 30,
   "metadata": {},
   "outputs": [
    {
     "name": "stdout",
     "output_type": "stream",
     "text": [
      "The difference between answer and your guess: -200 days, 3:42:20\n"
     ]
    }
   ],
   "source": [
    "quiz_bot.check_user_answer(user_answer, ai_answer)"
   ]
  },
  {
   "cell_type": "code",
   "execution_count": null,
   "metadata": {},
   "outputs": [],
   "source": []
  },
  {
   "cell_type": "code",
   "execution_count": null,
   "metadata": {},
   "outputs": [],
   "source": []
  },
  {
   "cell_type": "code",
   "execution_count": null,
   "metadata": {},
   "outputs": [],
   "source": []
  }
 ],
 "metadata": {
  "kernelspec": {
   "display_name": ".venv",
   "language": "python",
   "name": "python3"
  },
  "language_info": {
   "codemirror_mode": {
    "name": "ipython",
    "version": 3
   },
   "file_extension": ".py",
   "mimetype": "text/x-python",
   "name": "python",
   "nbconvert_exporter": "python",
   "pygments_lexer": "ipython3",
   "version": "3.9.5"
  }
 },
 "nbformat": 4,
 "nbformat_minor": 2
}
